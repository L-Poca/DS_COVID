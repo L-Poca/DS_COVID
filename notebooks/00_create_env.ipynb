{
 "cells": [
  {
   "cell_type": "code",
   "execution_count": null,
   "id": "c809b7b9",
   "metadata": {},
   "outputs": [],
   "source": [
    "%python -m venv .venv"
   ]
  }
 ],
 "metadata": {
  "language_info": {
   "name": "python"
  }
 },
 "nbformat": 4,
 "nbformat_minor": 5
}
