{
 "cells": [
  {
   "cell_type": "code",
   "execution_count": 4,
   "id": "d7318083",
   "metadata": {},
   "outputs": [
    {
     "name": "stdout",
     "output_type": "stream",
     "text": [
      "data_augmentation\\main.ipynb:cell_2:1:1: F401 'nbimporter' imported but unused\n",
      "data_augmentation\\main.ipynb:cell_2:1:1: E402 module level import not at top of file\n",
      "data_augmentation\\main.ipynb:cell_2:2:1: F401 'under_sampling.apply_undersampling' imported but unused\n",
      "data_augmentation\\main.ipynb:cell_2:2:1: E402 module level import not at top of file\n"
     ]
    }
   ],
   "source": [
    "!nbqa flake8 ../notebooks/"
   ]
  }
 ],
 "metadata": {
  "kernelspec": {
   "display_name": "env_windows",
   "language": "python",
   "name": "python3"
  },
  "language_info": {
   "codemirror_mode": {
    "name": "ipython",
    "version": 3
   },
   "file_extension": ".py",
   "mimetype": "text/x-python",
   "name": "python",
   "nbconvert_exporter": "python",
   "pygments_lexer": "ipython3",
   "version": "3.12.10"
  }
 },
 "nbformat": 4,
 "nbformat_minor": 5
}
