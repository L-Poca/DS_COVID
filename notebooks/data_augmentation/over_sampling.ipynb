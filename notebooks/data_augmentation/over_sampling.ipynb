{
 "cells": [
  {
   "cell_type": "code",
   "execution_count": null,
   "id": "24dd7232",
   "metadata": {},
   "outputs": [
    {
     "ename": "ModuleNotFoundError",
     "evalue": "No module named '_01_select_folders'",
     "output_type": "error",
     "traceback": [
      "\u001b[31m---------------------------------------------------------------------------\u001b[39m",
      "\u001b[31mModuleNotFoundError\u001b[39m                       Traceback (most recent call last)",
      "\u001b[36mCell\u001b[39m\u001b[36m \u001b[39m\u001b[32mIn[1]\u001b[39m\u001b[32m, line 2\u001b[39m\n\u001b[32m      1\u001b[39m \u001b[38;5;28;01mimport\u001b[39;00m\u001b[38;5;250m \u001b[39m\u001b[34;01mnbimporter\u001b[39;00m\n\u001b[32m----> \u001b[39m\u001b[32m2\u001b[39m \u001b[38;5;28;01mfrom\u001b[39;00m\u001b[38;5;250m \u001b[39m\u001b[34;01m_01_select_folders\u001b[39;00m\u001b[38;5;250m \u001b[39m\u001b[38;5;28;01mimport\u001b[39;00m FolderSelector\n",
      "\u001b[31mModuleNotFoundError\u001b[39m: No module named '_01_select_folders'"
     ]
    }
   ],
   "source": [
    "import sys\n",
    "sys.path.append(r\"C:\\Users\\steve\\Documents\\data_scientest\\DS_COVID\\notebooks\\data_augmentation\")\n",
    "\n",
    "import nbimporter\n",
    "from _01_select_folders import FolderSelector\n"
   ]
  },
  {
   "cell_type": "code",
   "execution_count": null,
   "id": "3c658db6",
   "metadata": {},
   "outputs": [],
   "source": [
    "folder_selector = FolderSelector()\n",
    "folder_selector.afficher()\n",
    "\n",
    "# Puis une boucle si tu veux attendre les résultats :\n",
    "import time\n",
    "while not folder_selector.fini:\n",
    "    time.sleep(0.5)\n",
    "\n",
    "chemins = folder_selector.chemins\n",
    "print(\"📂 Chemins retenus :\", chemins)"
   ]
  }
 ],
 "metadata": {
  "kernelspec": {
   "display_name": "env_windows",
   "language": "python",
   "name": "python3"
  },
  "language_info": {
   "codemirror_mode": {
    "name": "ipython",
    "version": 3
   },
   "file_extension": ".py",
   "mimetype": "text/x-python",
   "name": "python",
   "nbconvert_exporter": "python",
   "pygments_lexer": "ipython3",
   "version": "3.12.10"
  }
 },
 "nbformat": 4,
 "nbformat_minor": 5
}
