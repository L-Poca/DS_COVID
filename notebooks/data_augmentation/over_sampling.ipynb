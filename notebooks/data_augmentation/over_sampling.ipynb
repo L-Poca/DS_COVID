{
 "cells": [
  {
   "cell_type": "code",
   "execution_count": 1,
   "id": "24dd7232",
   "metadata": {},
   "outputs": [],
   "source": [
    "from select_folders import FolderSelector"
   ]
  },
  {
   "cell_type": "code",
   "execution_count": null,
   "id": "3c658db6",
   "metadata": {},
   "outputs": [
    {
     "data": {
      "application/vnd.jupyter.widget-view+json": {
       "model_id": "564f99ea09974e678215c172b882b559",
       "version_major": 2,
       "version_minor": 0
      },
      "text/plain": [
       "VBox(children=(Text(value='', placeholder='Collez un chemin vers un dossier'), Button(description='Ajouter', s…"
      ]
     },
     "metadata": {},
     "output_type": "display_data"
    }
   ],
   "source": [
    "folder_selector = FolderSelector()\n",
    "folder_selector.afficher()\n",
    "C:/Users/rafae/Documents/GitHub/DS_COVID/data/raw/COVID-19_Radiography_Dataset/COVID-19_Radiography_Dataset/\n",
    "COVID\n",
    "Normal\n",
    "Lung_Opacity\n",
    "Viral Pneumonia\n",
    "images\n",
    "masks"
   ]
  },
  {
   "cell_type": "code",
   "execution_count": 3,
   "id": "b1e8da67",
   "metadata": {},
   "outputs": [
    {
     "name": "stdout",
     "output_type": "stream",
     "text": [
      "<select_folders.FolderSelector object at 0x000001D38F9A43B0>\n"
     ]
    }
   ],
   "source": [
    "print(folder_selector)"
   ]
  },
  {
   "cell_type": "markdown",
   "id": "7bb0ea59",
   "metadata": {},
   "source": [
    "JE COMMENCE PAR UTILISER L'UTILITAIRE DE KERAS.UTILS"
   ]
  },
  {
   "cell_type": "code",
   "execution_count": 18,
   "id": "0b56429a",
   "metadata": {},
   "outputs": [],
   "source": [
    "import os\n",
    "import cv2\n",
    "\n",
    "import pandas as pd\n",
    "import numpy as np\n",
    "import matplotlib.pyplot as plt\n",
    "\n",
    "from PIL import Image"
   ]
  },
  {
   "cell_type": "code",
   "execution_count": null,
   "id": "0f5a8aa4",
   "metadata": {},
   "outputs": [],
   "source": [
    "\n",
    "\n",
    "base_dir = \"C:/Users/rafae/Documents/GitHub/DS_COVID/data/raw/COVID-19_Radiography_Dataset/COVID-19_Radiography_Dataset/\"\n",
    "classes = [\"COVID\", \"Normal\", \"Lung_Opacity\", \"Viral Pneumonia\"]\n",
    "\n",
    "dico = {}\n",
    "\n",
    "for cls in classes:\n",
    "    \n",
    "    modes_img, formats_img, sizes_img, names_img = [], [], [], []\n",
    "    modes_msk, formats_msk, sizes_msk, names_msk = [], [], [], []\n",
    "    images_dir = os.path.join(base_dir, cls, \"images\")\n",
    "    masks_dir = os.path.join(base_dir, cls, \"masks\")\n",
    "    output_dir = os.path.join(base_dir, cls, \"images_masked\")\n",
    "\n",
    "    os.makedirs(output_dir, exist_ok=True)\n",
    "\n",
    "    for img_name in os.listdir(images_dir):\n",
    "\n",
    "        img_path = os.path.join(images_dir, img_name)\n",
    "        mask_path = os.path.join(masks_dir, img_name)\n",
    "    \n",
    "        try:\n",
    "            im = Image.open(img_path)\n",
    "            modes_img.append(im.mode)\n",
    "            formats_img.append(im.format)\n",
    "            sizes_img.append(im.size)\n",
    "            names_img.append(img_name)\n",
    "\n",
    "        except Exception as e:\n",
    "            print(f\"Erreur avec {img_path}: {e}\")\n",
    "    df = pd.DataFrame({\n",
    "        'name': names,\n",
    "        'mode': modes,\n",
    "        'format': formats,\n",
    "        'size': sizes\n",
    "    })\n",
    "    dico[cls] = df\n",
    "\n",
    "\n"
   ]
  },
  {
   "cell_type": "code",
   "execution_count": 21,
   "id": "5def67f4",
   "metadata": {},
   "outputs": [
    {
     "data": {
      "text/html": [
       "<div>\n",
       "<style scoped>\n",
       "    .dataframe tbody tr th:only-of-type {\n",
       "        vertical-align: middle;\n",
       "    }\n",
       "\n",
       "    .dataframe tbody tr th {\n",
       "        vertical-align: top;\n",
       "    }\n",
       "\n",
       "    .dataframe thead th {\n",
       "        text-align: right;\n",
       "    }\n",
       "</style>\n",
       "<table border=\"1\" class=\"dataframe\">\n",
       "  <thead>\n",
       "    <tr style=\"text-align: right;\">\n",
       "      <th></th>\n",
       "      <th>name</th>\n",
       "      <th>mode</th>\n",
       "      <th>format</th>\n",
       "      <th>size</th>\n",
       "    </tr>\n",
       "  </thead>\n",
       "  <tbody>\n",
       "    <tr>\n",
       "      <th>0</th>\n",
       "      <td>COVID-1.png</td>\n",
       "      <td>L</td>\n",
       "      <td>PNG</td>\n",
       "      <td>(299, 299)</td>\n",
       "    </tr>\n",
       "    <tr>\n",
       "      <th>1</th>\n",
       "      <td>COVID-10.png</td>\n",
       "      <td>L</td>\n",
       "      <td>PNG</td>\n",
       "      <td>(299, 299)</td>\n",
       "    </tr>\n",
       "    <tr>\n",
       "      <th>2</th>\n",
       "      <td>COVID-100.png</td>\n",
       "      <td>L</td>\n",
       "      <td>PNG</td>\n",
       "      <td>(299, 299)</td>\n",
       "    </tr>\n",
       "  </tbody>\n",
       "</table>\n",
       "</div>"
      ],
      "text/plain": [
       "            name mode format        size\n",
       "0    COVID-1.png    L    PNG  (299, 299)\n",
       "1   COVID-10.png    L    PNG  (299, 299)\n",
       "2  COVID-100.png    L    PNG  (299, 299)"
      ]
     },
     "execution_count": 21,
     "metadata": {},
     "output_type": "execute_result"
    }
   ],
   "source": [
    "dico[\"COVID\"].head()"
   ]
  },
  {
   "cell_type": "code",
   "execution_count": null,
   "id": "0a803cd6",
   "metadata": {},
   "outputs": [],
   "source": []
  }
 ],
 "metadata": {
  "kernelspec": {
   "display_name": ".venv",
   "language": "python",
   "name": "python3"
  },
  "language_info": {
   "codemirror_mode": {
    "name": "ipython",
    "version": 3
   },
   "file_extension": ".py",
   "mimetype": "text/x-python",
   "name": "python",
   "nbconvert_exporter": "python",
   "pygments_lexer": "ipython3",
   "version": "3.12.10"
  }
 },
 "nbformat": 4,
 "nbformat_minor": 5
}
