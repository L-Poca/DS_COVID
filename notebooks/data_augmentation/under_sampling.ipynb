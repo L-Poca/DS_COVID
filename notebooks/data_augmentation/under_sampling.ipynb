{
 "cells": [
  {
   "cell_type": "code",
   "execution_count": 3,
   "id": "805125ac",
   "metadata": {},
   "outputs": [],
   "source": [
    "import os\n",
    "import random\n",
    "import shutil\n",
    "from glob import glob\n",
    "from select_folders import FolderSelector"
   ]
  },
  {
   "cell_type": "code",
   "execution_count": 4,
   "id": "a7c51b42",
   "metadata": {},
   "outputs": [
    {
     "data": {
      "application/vnd.jupyter.widget-view+json": {
       "model_id": "3abbc9b70a13451884f18653c9fcee08",
       "version_major": 2,
       "version_minor": 0
      },
      "text/plain": [
       "VBox(children=(Text(value='', placeholder='Collez un chemin vers un dossier'), Button(description='Ajouter', s…"
      ]
     },
     "metadata": {},
     "output_type": "display_data"
    }
   ],
   "source": [
    "folder_selector = FolderSelector()\n",
    "folder_selector.afficher()"
   ]
  },
  {
   "cell_type": "code",
   "execution_count": null,
   "id": "60c0f1e1",
   "metadata": {},
   "outputs": [],
   "source": [
    "# <codecell>\n",
    "def apply_undersampling(data_dir, target_counts, output_dir):\n",
    "    \"\"\"\n",
    "    Applique l’undersampling pour réduire les classes sur-représentées.\n",
    "    \"\"\"\n",
    "    if not os.path.exists(output_dir):\n",
    "        os.makedirs(output_dir)\n",
    "\n",
    "    for class_name, target_count in target_counts.items():\n",
    "        class_path = os.path.join(data_dir, class_name)\n",
    "        output_class_path = os.path.join(output_dir, class_name)\n",
    "\n",
    "        if not os.path.exists(output_class_path):\n",
    "            os.makedirs(output_class_path)\n",
    "\n",
    "        images = glob(os.path.join(class_path, \"*.png\"))\n",
    "\n",
    "        if len(images) > target_count:\n",
    "            selected_images = random.sample(images, target_count)\n",
    "        else:\n",
    "            selected_images = images\n",
    "\n",
    "        for img_path in selected_images:\n",
    "            shutil.copy(img_path, output_class_path)\n",
    "\n",
    "    print(f\"✅ Undersampling terminé pour {data_dir} → {output_dir}\")"
   ]
  },
  {
   "cell_type": "code",
   "execution_count": null,
   "id": "288ce103",
   "metadata": {},
   "outputs": [],
   "source": []
  }
 ],
 "metadata": {
  "kernelspec": {
   "display_name": "env_windows",
   "language": "python",
   "name": "python3"
  },
  "language_info": {
   "codemirror_mode": {
    "name": "ipython",
    "version": 3
   },
   "file_extension": ".py",
   "mimetype": "text/x-python",
   "name": "python",
   "nbconvert_exporter": "python",
   "pygments_lexer": "ipython3",
   "version": "3.12.10"
  }
 },
 "nbformat": 4,
 "nbformat_minor": 5
}
