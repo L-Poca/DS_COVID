{
 "cells": [
  {
   "cell_type": "code",
   "execution_count": 13,
   "id": "805125ac",
   "metadata": {},
   "outputs": [],
   "source": [
    "import os\n",
    "import random\n",
    "import shutil\n",
    "from glob import glob"
   ]
  },
  {
   "cell_type": "code",
   "execution_count": 14,
   "id": "60c0f1e1",
   "metadata": {},
   "outputs": [],
   "source": [
    "def apply_undersampling(data_dir, target_count, output_dir):\n",
    "    import os, random, shutil\n",
    "    from glob import glob\n",
    "\n",
    "    logs = []\n",
    "    if not os.path.exists(output_dir):\n",
    "        os.makedirs(output_dir)\n",
    "\n",
    "    images = glob(os.path.join(data_dir, \"*.png\"))\n",
    "    logs.append(f\"Recherche dans : {data_dir}\")\n",
    "    logs.append(f\"Images trouvées : {len(images)}\")\n",
    "\n",
    "    if len(images) > target_count:\n",
    "        selected_images = random.sample(images, target_count)\n",
    "    else:\n",
    "        selected_images = images\n",
    "\n",
    "    for img_path in selected_images:\n",
    "        shutil.copy(img_path, output_dir)\n",
    "\n",
    "    logs.append(f\"✅ Undersampling terminé pour {data_dir} → {output_dir}\")\n",
    "    return logs"
   ]
  }
 ],
 "metadata": {
  "kernelspec": {
   "display_name": "env_windows",
   "language": "python",
   "name": "python3"
  },
  "language_info": {
   "codemirror_mode": {
    "name": "ipython",
    "version": 3
   },
   "file_extension": ".py",
   "mimetype": "text/x-python",
   "name": "python",
   "nbconvert_exporter": "python",
   "pygments_lexer": "ipython3",
   "version": "3.12.10"
  }
 },
 "nbformat": 4,
 "nbformat_minor": 5
}
