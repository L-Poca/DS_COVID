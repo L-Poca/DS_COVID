{
 "cells": [
  {
   "cell_type": "code",
   "execution_count": 1,
   "id": "1a7d9b59",
   "metadata": {},
   "outputs": [],
   "source": [
    "import import_ipynb\n",
    "import os\n",
    "from select_folders import FolderSelector\n",
    "from under_sampling import apply_undersampling\n",
    "import time"
   ]
  },
  {
   "cell_type": "code",
   "execution_count": 2,
   "id": "c3065ed8",
   "metadata": {},
   "outputs": [
    {
     "data": {
      "application/vnd.jupyter.widget-view+json": {
       "model_id": "3619f937668548d78933fe1d69ec4c96",
       "version_major": 2,
       "version_minor": 0
      },
      "text/plain": [
       "VBox(children=(Text(value='', placeholder='Collez un chemin vers un dossier'), Button(description='Ajouter', s…"
      ]
     },
     "metadata": {},
     "output_type": "display_data"
    }
   ],
   "source": [
    "folder_selector = FolderSelector()\n",
    "folder_selector.afficher()"
   ]
  },
  {
   "cell_type": "code",
   "execution_count": null,
   "id": "68394f6c",
   "metadata": {},
   "outputs": [],
   "source": [
    "while not folder_selector.fini:\n",
    "    time.sleep(1)\n",
    "\n",
    "# On récupère le dossiers sélectionnés\n",
    "selected_dirs = folder_selector.chemins\n",
    "print(f\"Dossiers sélectionnés : {selected_dirs}\")"
   ]
  },
  {
   "cell_type": "code",
   "execution_count": 25,
   "id": "e0849a50",
   "metadata": {},
   "outputs": [
    {
     "name": "stdout",
     "output_type": "stream",
     "text": [
      "🔁 Traitement du dossier : C:\\Users\\steve\\Documents\\data_scientest\\DS_COVID\\data\\raw\\COVID-19_Radiography_Dataset\\COVID-19_Radiography_Dataset\\Normal\\images\n"
     ]
    },
    {
     "ename": "AttributeError",
     "evalue": "'int' object has no attribute 'items'",
     "output_type": "error",
     "traceback": [
      "\u001b[31m---------------------------------------------------------------------------\u001b[39m",
      "\u001b[31mAttributeError\u001b[39m                            Traceback (most recent call last)",
      "\u001b[36mCell\u001b[39m\u001b[36m \u001b[39m\u001b[32mIn[25]\u001b[39m\u001b[32m, line 6\u001b[39m\n\u001b[32m      4\u001b[39m \u001b[38;5;28;01mfor\u001b[39;00m data_dir \u001b[38;5;129;01min\u001b[39;00m selected_dirs:\n\u001b[32m      5\u001b[39m     \u001b[38;5;28mprint\u001b[39m(\u001b[33mf\u001b[39m\u001b[33m\"\u001b[39m\u001b[33m🔁 Traitement du dossier : \u001b[39m\u001b[38;5;132;01m{\u001b[39;00mdata_dir\u001b[38;5;132;01m}\u001b[39;00m\u001b[33m\"\u001b[39m)\n\u001b[32m----> \u001b[39m\u001b[32m6\u001b[39m     logs = \u001b[43mapply_undersampling\u001b[49m\u001b[43m(\u001b[49m\u001b[43mdata_dir\u001b[49m\u001b[43m,\u001b[49m\u001b[43m \u001b[49m\u001b[43mtarget_count\u001b[49m\u001b[43m,\u001b[49m\u001b[43m \u001b[49m\u001b[43moutput_dir\u001b[49m\u001b[43m)\u001b[49m\n\u001b[32m      7\u001b[39m     \u001b[38;5;28;01mfor\u001b[39;00m line \u001b[38;5;129;01min\u001b[39;00m logs:\n\u001b[32m      8\u001b[39m         \u001b[38;5;28mprint\u001b[39m(line)\n",
      "\u001b[36mFile \u001b[39m\u001b[32m<string>:8\u001b[39m, in \u001b[36mapply_undersampling\u001b[39m\u001b[34m(data_dir, target_counts, output_dir)\u001b[39m\n",
      "\u001b[31mAttributeError\u001b[39m: 'int' object has no attribute 'items'"
     ]
    }
   ],
   "source": [
    "target_count = 10192\n",
    "output_dir = r\"C:\\Users\\steve\\Documents\\data_scientest\\DS_COVID\\data\\processed\\Normal\"\n",
    "\n",
    "for data_dir in selected_dirs:\n",
    "    print(f\"🔁 Traitement du dossier : {data_dir}\")\n",
    "    logs = apply_undersampling(data_dir, target_count, output_dir)\n",
    "    for line in logs:\n",
    "        print(line)"
   ]
  }
 ],
 "metadata": {
  "kernelspec": {
   "display_name": "env_windows",
   "language": "python",
   "name": "python3"
  },
  "language_info": {
   "codemirror_mode": {
    "name": "ipython",
    "version": 3
   },
   "file_extension": ".py",
   "mimetype": "text/x-python",
   "name": "python",
   "nbconvert_exporter": "python",
   "pygments_lexer": "ipython3",
   "version": "3.12.10"
  }
 },
 "nbformat": 4,
 "nbformat_minor": 5
}
