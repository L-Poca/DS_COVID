{
 "cells": [
  {
   "cell_type": "code",
   "execution_count": 1,
   "id": "98102853",
   "metadata": {},
   "outputs": [],
   "source": [
    "import sys"
   ]
  },
  {
   "cell_type": "code",
   "execution_count": 2,
   "id": "c50528bb",
   "metadata": {},
   "outputs": [],
   "source": [
    "expected_version = \"3.12.10\"\n",
    "current_version = \".\".join(map(str, sys.version_info[:3]))"
   ]
  },
  {
   "cell_type": "code",
   "execution_count": 3,
   "id": "b738184c",
   "metadata": {},
   "outputs": [
    {
     "name": "stdout",
     "output_type": "stream",
     "text": [
      "✅ Version Python conforme : 3.12.10\n"
     ]
    }
   ],
   "source": [
    "if current_version == expected_version:\n",
    "    print(f\"✅ Version Python conforme : {current_version}\")\n",
    "else:\n",
    "    print(f\"⚠️ Version Python différente : {current_version}\")\n",
    "    print(f\"Version attendue : {expected_version}\")"
   ]
  }
 ],
 "metadata": {
  "kernelspec": {
   "display_name": "env_windows",
   "language": "python",
   "name": "python3"
  },
  "language_info": {
   "codemirror_mode": {
    "name": "ipython",
    "version": 3
   },
   "file_extension": ".py",
   "mimetype": "text/x-python",
   "name": "python",
   "nbconvert_exporter": "python",
   "pygments_lexer": "ipython3",
   "version": "3.12.10"
  }
 },
 "nbformat": 4,
 "nbformat_minor": 5
}
