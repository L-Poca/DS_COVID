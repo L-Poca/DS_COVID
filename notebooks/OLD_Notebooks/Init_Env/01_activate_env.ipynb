{
 "cells": [
  {
   "cell_type": "markdown",
   "id": "1befcf6d",
   "metadata": {},
   "source": [
    "Pour windows"
   ]
  },
  {
   "cell_type": "code",
   "execution_count": null,
   "id": "b6dcc78d",
   "metadata": {},
   "outputs": [],
   "source": [
    "%..\\env_windows\\Scripts\\activate"
   ]
  },
  {
   "cell_type": "markdown",
   "id": "8bac5be3",
   "metadata": {},
   "source": [
    "Pour linux"
   ]
  },
  {
   "cell_type": "code",
   "execution_count": null,
   "id": "f096ad43",
   "metadata": {},
   "outputs": [],
   "source": [
    "# source ../.venv/bin/activate"
   ]
  }
 ],
 "metadata": {
  "language_info": {
   "name": "python"
  }
 },
 "nbformat": 4,
 "nbformat_minor": 5
}
