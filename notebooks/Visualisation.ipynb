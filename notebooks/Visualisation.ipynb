{
 "cells": [
  {
   "cell_type": "markdown",
   "id": "09339561",
   "metadata": {},
   "source": [
    "# Exploration des données"
   ]
  },
  {
   "cell_type": "markdown",
   "id": "db7d7718",
   "metadata": {},
   "source": [
    "## Initialisation"
   ]
  },
  {
   "cell_type": "markdown",
   "id": "7ba3339b",
   "metadata": {},
   "source": [
    "On importe les librairies"
   ]
  },
  {
   "cell_type": "code",
   "execution_count": null,
   "id": "d9af8466",
   "metadata": {
    "vscode": {
     "languageId": "plaintext"
    }
   },
   "outputs": [],
   "source": [
    "import req"
   ]
  }
 ],
 "metadata": {
  "language_info": {
   "name": "python"
  }
 },
 "nbformat": 4,
 "nbformat_minor": 5
}
