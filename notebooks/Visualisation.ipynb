{
 "cells": [
  {
   "cell_type": "markdown",
   "id": "09339561",
   "metadata": {},
   "source": [
    "# Exploration des données"
   ]
  },
  {
   "cell_type": "markdown",
   "id": "db7d7718",
   "metadata": {},
   "source": [
    "## Initialisation"
   ]
  },
  {
   "cell_type": "markdown",
   "id": "fe3758e5",
   "metadata": {},
   "source": [
    " ### Installation des librairies"
   ]
  },
  {
   "cell_type": "code",
   "execution_count": null,
   "id": "a1d8046f",
   "metadata": {},
   "outputs": [],
   "source": [
    "# Mettre a jour l'environnement virtuel et les requirements.txt\n",
    "%pip install -r ../requirements.txt \n",
    "%pip freeze > ../requirements.txt "
   ]
  },
  {
   "cell_type": "markdown",
   "id": "7ba3339b",
   "metadata": {},
   "source": [
    "### Importation des librairies"
   ]
  },
  {
   "cell_type": "code",
   "execution_count": 2,
   "id": "97e0dc9d",
   "metadata": {},
   "outputs": [],
   "source": [
    "# Kaggle API\n",
    "from kaggle.api.kaggle_api_extended import KaggleApi # mettre clé API kaggle dans C:\\Users\\<VotreNom>\\.kaggle\\kaggle.json\n",
    "\n",
    "# Global\n",
    "import os\n",
    "\n",
    "# Data\n",
    "import pandas as pd\n",
    "import numpy as np\n",
    "\n",
    "# Visualisation\n",
    "import matplotlib.pyplot as plt\n",
    "import seaborn as sns\n",
    "\n",
    "# Machine Learning\n",
    "\n"
   ]
  },
  {
   "cell_type": "markdown",
   "id": "f02361e0",
   "metadata": {},
   "source": [
    "## Téléchargement Data"
   ]
  },
  {
   "cell_type": "markdown",
   "id": "4ac2000a",
   "metadata": {},
   "source": [
    "Télécharge les fichiers même s'ils existent déjà"
   ]
  },
  {
   "cell_type": "code",
   "execution_count": null,
   "id": "c90784c9",
   "metadata": {},
   "outputs": [
    {
     "name": "stdout",
     "output_type": "stream",
     "text": [
      "Dossier de destination : c:\\Users\\Léna\\Documents\\A_Repos\\DS_COVID\\data\\covid19-radiography-database\n",
      "Téléchargement du dataset dans : c:\\Users\\Léna\\Documents\\A_Repos\\DS_COVID\\data\\covid19-radiography-database\n",
      "Dataset URL: https://www.kaggle.com/datasets/tawsifurrahman/covid19-radiography-database\n"
     ]
    }
   ],
   "source": [
    "# Authentification\n",
    "api = KaggleApi()\n",
    "api.authenticate()\n",
    "\n",
    "# URL du dataset à télécharger\n",
    "dataset_url = 'tawsifurrahman/covid19-radiography-database'\n",
    "\n",
    "# Chemin du dossier où le dataset sera extrait\n",
    "destination_dir = os.path.abspath(\"../data\")\n",
    "dataset_folder = os.path.join(destination_dir, dataset_url.split('/')[-1])\n",
    "print(\"Dossier de destination :\", dataset_folder)\n",
    "\n",
    "# Création du dossier de destination principal\n",
    "os.makedirs(destination_dir, exist_ok=True)\n",
    "\n",
    "# Vérification de l'existence du dossier du dataset\n",
    "if os.path.exists(dataset_folder):\n",
    "    print(f\"Le dossier du dataset existe déjà : {dataset_folder}\")\n",
    "    print(\"Téléchargement ignoré.\")\n",
    "else:\n",
    "    print(\"Téléchargement du dataset dans :\", dataset_folder)\n",
    "    api.dataset_download_files(\n",
    "        dataset_url,\n",
    "        path=dataset_folder,\n",
    "        unzip=True\n",
    "    )\n",
    "    print(\"Dataset téléchargé avec succès dans :\", dataset_folder)\n",
    "    "
   ]
  },
  {
   "cell_type": "markdown",
   "id": "caf16ad4",
   "metadata": {},
   "source": [
    "## Analyse des Data"
   ]
  },
  {
   "cell_type": "code",
   "execution_count": null,
   "id": "d600daf9",
   "metadata": {},
   "outputs": [],
   "source": []
  },
  {
   "cell_type": "code",
   "execution_count": null,
   "id": "9b721288",
   "metadata": {},
   "outputs": [],
   "source": [
    "normal_metadata = pd.read_excel(os.path.join(path2, 'Normal.metadata.xlsx'), sheet_name='Sheet1')\n",
    "normal_metadata.head()"
   ]
  }
 ],
 "metadata": {
  "kernelspec": {
   "display_name": "Python 3",
   "language": "python",
   "name": "python3"
  },
  "language_info": {
   "codemirror_mode": {
    "name": "ipython",
    "version": 3
   },
   "file_extension": ".py",
   "mimetype": "text/x-python",
   "name": "python",
   "nbconvert_exporter": "python",
   "pygments_lexer": "ipython3",
   "version": "3.12.10"
  }
 },
 "nbformat": 4,
 "nbformat_minor": 5
}
