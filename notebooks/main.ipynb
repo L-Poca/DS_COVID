{
 "cells": [
  {
   "cell_type": "code",
   "execution_count": 11,
   "id": "1a7d9b59",
   "metadata": {},
   "outputs": [],
   "source": [
    "import import_ipynb\n",
    "import time\n",
    "import matplotlib.pyplot as plt\n",
    "import random\n",
    "from glob import glob\n",
    "\n"
   ]
  },
  {
   "cell_type": "code",
   "execution_count": 12,
   "id": "ec58eb66",
   "metadata": {},
   "outputs": [],
   "source": [
    "# importation des bibliothèques basiques\n",
    "from pathlib import Path\n",
    "import sys\n",
    "import os\n",
    "from IPython.display import display\n",
    "import pandas as pd\n",
    "\n",
    "# Ajout du répertoire racine du projet au PYTHONPATH pour tous les imports\n",
    "project_root = Path().resolve().parent\n",
    "if str(project_root) not in sys.path:\n",
    "    sys.path.insert(0, str(project_root))\n",
    "\n",
    "# Ensuite importer les modules nécessaires\n",
    "import src.features.Augmentation.select_folders as select_folders\n",
    "import src.features.Augmentation.Sampling as sampling"
   ]
  },
  {
   "cell_type": "code",
   "execution_count": null,
   "id": "c3065ed8",
   "metadata": {},
   "outputs": [
    {
     "data": {
      "application/vnd.jupyter.widget-view+json": {
       "model_id": "20f7df862da440f2bc28dc513f961f0f",
       "version_major": 2,
       "version_minor": 0
      },
      "text/plain": [
       "VBox(children=(Text(value='', placeholder='Collez un chemin vers un dossier'), Button(description='Ajouter', s…"
      ]
     },
     "metadata": {},
     "output_type": "display_data"
    }
   ],
   "source": [
    "# Mettre des chemmins absolus pour les dossiers de données\n",
    "folder_selector = select_folders.FolderSelector()\n",
    "folder_selector.afficher()"
   ]
  },
  {
   "cell_type": "code",
   "execution_count": null,
   "id": "68394f6c",
   "metadata": {},
   "outputs": [],
   "source": [
    "while not folder_selector.fini:\n",
    "    time.sleep(1)\n",
    "\n",
    "# On récupère les dossiers sélectionnés\n",
    "selected_dirs = folder_selector.chemins\n",
    "print(f\"Dossiers sélectionnés : {selected_dirs}\")"
   ]
  },
  {
   "cell_type": "code",
   "execution_count": null,
   "id": "e0849a50",
   "metadata": {},
   "outputs": [],
   "source": [
    "target_count = 4999\n",
    "# Récupère le chemin absolu du dossier courant du projet (là où se trouve ce notebook)\n",
    "project_root = os.path.abspath(os.path.join(os.getcwd(), \"..\"))\n",
    "\n",
    "\n"
   ]
  },
  {
   "cell_type": "code",
   "execution_count": null,
   "id": "95a99e5d",
   "metadata": {},
   "outputs": [],
   "source": [
    "\n",
    "for data_dir in selected_dirs:\n",
    "    print(f\"🔁 Traitement du dossier : {data_dir}\")\n",
    "\n",
    "    # Construit le chemin de sortie de façon portable\n",
    "    dsize = (256,256) # TODO rendre dynamique\n",
    "    Categorie = \"Normal\"\n",
    "    output_dir = os.path.join(project_root, \"data\", \"processed\",f\"{dsize[0]}x{dsize[1]}\", f\"{Categorie}\",\"Augmented\")\n",
    "    print(\"Chemin de sortie utilisé :\", output_dir)\n",
    "\n",
    "    # Applique l'undersampling\n",
    "    #logs = sampling.apply_undersampling(data_dir, target_count, output_dir)\n",
    "    for line in logs:\n",
    "        print(line)"
   ]
  },
  {
   "cell_type": "code",
   "execution_count": null,
   "id": "b8309430",
   "metadata": {},
   "outputs": [],
   "source": [
    "# Choisir le dossier à explorer\n",
    "data_dir = selected_dirs[0]\n",
    "\n",
    "images = glob(os.path.join(output_dir, '*.png'))\n",
    "sample_images = random.sample(images, min(5, len(images)))\n",
    "\n",
    "fig, axes = plt.subplots(1, len(sample_images), figsize=(15, 3))\n",
    "if len(sample_images) == 1:\n",
    "    axes = [axes]\n",
    "for ax, img_path in zip(axes, sample_images):\n",
    "    img = plt.imread(img_path)\n",
    "    ax.imshow(img, cmap='gray')\n",
    "    ax.axis('off')\n",
    "    ax.set_title(os.path.basename(img_path))\n",
    "plt.tight_layout()\n",
    "plt.show()"
   ]
  },
  {
   "cell_type": "code",
   "execution_count": null,
   "id": "5551462e",
   "metadata": {},
   "outputs": [],
   "source": []
  }
 ],
 "metadata": {
  "kernelspec": {
   "display_name": ".venv",
   "language": "python",
   "name": "python3"
  },
  "language_info": {
   "codemirror_mode": {
    "name": "ipython",
    "version": 3
   },
   "file_extension": ".py",
   "mimetype": "text/x-python",
   "name": "python",
   "nbconvert_exporter": "python",
   "pygments_lexer": "ipython3",
   "version": "3.12.10"
  }
 },
 "nbformat": 4,
 "nbformat_minor": 5
}
