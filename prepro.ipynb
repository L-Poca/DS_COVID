{
 "cells": [
  {
   "cell_type": "code",
   "execution_count": 7,
   "id": "cf744e63",
   "metadata": {},
   "outputs": [],
   "source": [
    "from PIL import Image\n",
    "\n",
    "def resize_and_grayscale_image(input_image, target_size):\n",
    "    \n",
    "    img_resized = input_image.resize(target_size,resample=Image.BICUBIC)\n",
    "    img_gray = img_resized.convert('L')\n",
    "    return img_gray\n",
    "\n",
    "\n"
   ]
  },
  {
   "cell_type": "code",
   "execution_count": 17,
   "id": "9cdc0b79",
   "metadata": {},
   "outputs": [
    {
     "name": "stdout",
     "output_type": "stream",
     "text": [
      "La taille de l image avant resize: (299, 299)\n",
      "La taille de l image après: (256, 256)\n"
     ]
    }
   ],
   "source": [
    "img = Image.open(r'C:\\Users\\serin\\OneDrive\\Bureau\\projet_covid\\COVID-19_Radiography_Dataset\\Viral Pneumonia\\images\\Viral Pneumonia-1.png')\n",
    "print('La taille de l image avant resize:',img.size)\n",
    "img_gray=resize_and_grayscale_image(img,(256,256))\n",
    "print('La taille de l image après:',img_gray.size)\n",
    "img_gray.show()"
   ]
  },
  {
   "cell_type": "code",
   "execution_count": 9,
   "id": "4b3712b2",
   "metadata": {},
   "outputs": [],
   "source": [
    "mask = Image.open(r'C:\\Users\\serin\\OneDrive\\Bureau\\projet_covid\\COVID-19_Radiography_Dataset\\COVID\\masks\\COVID-1.png')\n",
    "img_gray=resize_and_grayscale_image(mask,(256,256))\n",
    "\n",
    "img_gray.show()"
   ]
  },
  {
   "cell_type": "code",
   "execution_count": null,
   "id": "5d7b7abd",
   "metadata": {},
   "outputs": [],
   "source": [
    "def img_normalise(input_image):\n",
    "    input_image=input_image.astype('float32')\n",
    "    img_norm=(input_image/127.5)-1\n",
    "    return img_norm"
   ]
  }
 ],
 "metadata": {
  "kernelspec": {
   "display_name": "monenv",
   "language": "python",
   "name": "python3"
  },
  "language_info": {
   "codemirror_mode": {
    "name": "ipython",
    "version": 3
   },
   "file_extension": ".py",
   "mimetype": "text/x-python",
   "name": "python",
   "nbconvert_exporter": "python",
   "pygments_lexer": "ipython3",
   "version": "3.11.9"
  }
 },
 "nbformat": 4,
 "nbformat_minor": 5
}
